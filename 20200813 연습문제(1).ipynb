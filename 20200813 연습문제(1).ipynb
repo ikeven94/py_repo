{
 "cells": [
  {
   "cell_type": "code",
   "execution_count": null,
   "metadata": {},
   "outputs": [],
   "source": [
    "\"\"\"\n",
    "0. 가장 많이 사용된 알파벳 문자 구하기?\n",
    "1. 각 연도별로 가장 인기 있는 이름?(성별에 따라...)\n",
    "2. 모음(a, e, i, o, u)의 개수 변화\n",
    "1880\n",
    "남자\n",
    "john : 1000명 -> 모음개수 : 1 * 1000 = 1000\n",
    "emma : 500명 -> 모음개수 : 2 * 500 = 1000\n",
    "...                            총합 = 20000\n",
    "모음개수를 모두 합친다(연도 및 성별)\n",
    "\n",
    "1880\n",
    "여자\n",
    "malilyn : 1000명 -> 모음개수 : 2 * 1000 = 2000\n",
    "mary : 5000명 -> 모음개수 : 1 * 5000 = 5000\n",
    "...                            총합 = 30000\n",
    "\n",
    "\n",
    "\"\"\"\n",
    "#         남자    여자\n",
    "# 1880    20000  30000\n",
    "# ...\n",
    "# 2010   150000  200000"
   ]
  },
  {
   "cell_type": "code",
   "execution_count": null,
   "metadata": {},
   "outputs": [],
   "source": [
    "import numpy as np\n",
    "import pandas as pd\n",
    "import matplotlib.pyplot as pit"
   ]
  },
  {
   "cell_type": "code",
   "execution_count": null,
   "metadata": {},
   "outputs": [],
   "source": [
    "pieces = [] # [1880df, 1881df, ..., 2010df]\n",
    "\n",
    "for year in range(1880, 2011) :\n",
    "    df = pd.read_csv(\"babynames/yob%d.txt\" % year,\n",
    "                names = ['name', 'sex', 'births'])\n",
    "    df['year'] = year\n",
    "    pieces.append(df)"
   ]
  },
  {
   "cell_type": "code",
   "execution_count": null,
   "metadata": {},
   "outputs": [],
   "source": [
    "names = pd.concat(pieces, ignore_index = True)"
   ]
  },
  {
   "cell_type": "code",
   "execution_count": null,
   "metadata": {},
   "outputs": [],
   "source": [
    "names # year, sex 그룹화\n",
    "\n",
    "def add_prop(group) :\n",
    "    group['prop'] = group.births/group.births.sum()\n",
    "    return group\n",
    "    # (1880,F).태어난아이수 / (1880,F)태어난아이수.sum()\n",
    "    # 1880년에 태어난 여자아이 수 / 1880년에 태어난 여자아이 수의 전체 합\n",
    "\n",
    "names = names.groupby(['year', 'sex']).apply(add_prop)\n",
    "# 131 * 2 = 262개 그룹"
   ]
  },
  {
   "cell_type": "code",
   "execution_count": null,
   "metadata": {},
   "outputs": [],
   "source": [
    "# 1. 각 연도별로 가장 인기 있는 이름?(성별에 따라...)\n",
    "\n",
    "tempt = names.groupby(['year', 'sex']).prop.max()\n",
    "for i in range(len(tempt)) :\n",
    "    print(names[names['prop'] == tempt[i]][['year', 'sex', 'name']])"
   ]
  },
  {
   "cell_type": "code",
   "execution_count": null,
   "metadata": {},
   "outputs": [],
   "source": []
  },
  {
   "cell_type": "code",
   "execution_count": null,
   "metadata": {},
   "outputs": [],
   "source": [
    "# 2. 모음(a, e, i, o, u)의 개수 변화\n",
    "# 1880\n",
    "# 남자\n",
    "# john : 1000명 -> 모음개수 : 1 * 1000 = 1000\n",
    "# emma : 500명 -> 모음개수 : 2 * 500 = 1000\n",
    "# ...                            총합 = 20000\n",
    "# 모음개수를 모두 합친다(연도 및 성별)\n",
    "\n",
    "# 1880\n",
    "# 여자\n",
    "# malilyn : 1000명 -> 모음개수 : 2 * 1000 = 2000\n",
    "# mary : 5000명 -> 모음개수 : 1 * 5000 = 5000\n",
    "# ...                            총합 = 30000\n",
    "\n",
    "\n",
    "# \"\"\"\n",
    "# #         남자    여자\n",
    "# # 1880    20000  30000\n",
    "# # ...\n",
    "# # 2010   150000  200000\n",
    "\n",
    "start_boys = 0\n",
    "finish_boys = 0\n",
    "start_girls = 0\n",
    "finish_girls = 0\n",
    "\n",
    "print(\"        남자     여자\")\n",
    "\n",
    "for year in range(1880, 2011) :\n",
    "    cnt_boys = 0\n",
    "    cnt_girls = 0\n",
    "    yrlen_boys = len(boys[boys['year'] == year])\n",
    "    yrlen_girls = len(girls[girls['year'] == year])\n",
    "    \n",
    "    for i in range(start_boys, finish_boys + yrlen_boys) :\n",
    "        for j in ['a', 'e', 'i', 'o', 'u'] :\n",
    "            num_boys = boys[boys['year'] == year]['name'][i].count(j) * boys[boys['year'] == year]['births'][i]\n",
    "            cnt_boys += num_boys\n",
    "    start_boys += yrlen_boys\n",
    "    finish_boys += yrlen_boys\n",
    "    \n",
    "    for k in range(start_girls, finish_girls + yrlen_girls) :\n",
    "        for l in ['a', 'e', 'i', 'o', 'u'] :\n",
    "            num_girls = girls[girls['year'] == year]['name'][k].count(l) * girls[girls['year'] == year]['births'][k]\n",
    "            cnt_girls += num_girls\n",
    "    start_girls += yrlen_girls\n",
    "    finish_girls += yrlen_girls\n",
    "\n",
    "    print(\"{}   {}   {}\".format(year, cnt_boys, cnt_girls))"
   ]
  },
  {
   "cell_type": "code",
   "execution_count": null,
   "metadata": {},
   "outputs": [],
   "source": []
  },
  {
   "cell_type": "code",
   "execution_count": null,
   "metadata": {},
   "outputs": [],
   "source": [
    "# 0. 가장 많이 사용된 알파벳 문자 구하기?\n",
    "\n",
    "alphabet = ['a', 'b', 'c', 'd', 'e', 'f', 'g', 'h', 'i', 'j', 'k', 'l', 'm', 'n', 'o', 'p', 'q', 'r', 's', 't', 'u', 'v', 'w', 'x', 'y', 'z']\n",
    "list = [0 for i in range(26)]\n",
    "for i in range(len(names)) :\n",
    "    for j in range(26) :\n",
    "        cnt = names['name'][i].lower().count(alphabet[j])\n",
    "        list[j] += cnt\n",
    "print(list)\n",
    "res_index = list.index(max(list))\n",
    "print(alphabet(res_index))"
   ]
  },
  {
   "cell_type": "code",
   "execution_count": null,
   "metadata": {},
   "outputs": [],
   "source": []
  }
 ],
 "metadata": {
  "kernelspec": {
   "display_name": "Python 3",
   "language": "python",
   "name": "python3"
  },
  "language_info": {
   "codemirror_mode": {
    "name": "ipython",
    "version": 3
   },
   "file_extension": ".py",
   "mimetype": "text/x-python",
   "name": "python",
   "nbconvert_exporter": "python",
   "pygments_lexer": "ipython3",
   "version": "3.8.3"
  }
 },
 "nbformat": 4,
 "nbformat_minor": 4
}
