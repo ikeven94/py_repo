{
 "cells": [
  {
   "cell_type": "markdown",
   "id": "informative-brook",
   "metadata": {},
   "source": [
    "### Lienar Regression with Keras"
   ]
  },
  {
   "cell_type": "code",
   "execution_count": 67,
   "id": "honest-graphic",
   "metadata": {},
   "outputs": [],
   "source": [
    "from tensorflow.keras import optimizers\n",
    "from tensorflow.keras.layers import Dense\n",
    "from tensorflow.keras.models import Sequential\n",
    "import numpy as np\n",
    "import pandas as pd\n",
    "import matplotlib.pyplot as plt\n",
    "%matplotlib inline"
   ]
  },
  {
   "cell_type": "code",
   "execution_count": 106,
   "id": "sound-symposium",
   "metadata": {},
   "outputs": [
    {
     "data": {
      "text/plain": [
       "array([ 0.08990118,  2.80132582,  2.00318437,  4.16939616,  5.13062637,\n",
       "        6.02114268,  7.42533354,  7.1688422 , 10.58194539, 11.02818542])"
      ]
     },
     "execution_count": 106,
     "metadata": {},
     "output_type": "execute_result"
    }
   ],
   "source": [
    "X = np.linspace(0,10,10)\n",
    "Y = X + np.random.randn(*X.shape)\n",
    "Y"
   ]
  },
  {
   "cell_type": "code",
   "execution_count": 107,
   "id": "intimate-executive",
   "metadata": {},
   "outputs": [
    {
     "name": "stdout",
     "output_type": "stream",
     "text": [
      "(0.0, 0.1)\n",
      "(1.1, 2.8)\n",
      "(2.2, 2.0)\n",
      "(3.3, 4.2)\n",
      "(4.4, 5.1)\n",
      "(5.6, 6.0)\n",
      "(6.7, 7.4)\n",
      "(7.8, 7.2)\n",
      "(8.9, 10.6)\n",
      "(10.0, 11.0)\n"
     ]
    }
   ],
   "source": [
    "for x,y in zip(X,Y):\n",
    "    print((round(x,1),round(y,1)))"
   ]
  },
  {
   "cell_type": "code",
   "execution_count": 108,
   "id": "affected-outline",
   "metadata": {},
   "outputs": [],
   "source": [
    "# 선형 모델 생성 \n",
    "model = Sequential()\n",
    "# 가설이 y=wx 이므로 bias false\n",
    "model.add(Dense(input_dim=1, units=1, activation='linear', use_bias=False))"
   ]
  },
  {
   "cell_type": "code",
   "execution_count": 109,
   "id": "understood-settlement",
   "metadata": {},
   "outputs": [],
   "source": [
    "sgd = optimizers.SGD(lr=0.05)\n",
    "model.compile(optimizer='sgd',loss='mse')"
   ]
  },
  {
   "cell_type": "code",
   "execution_count": 110,
   "id": "infectious-expert",
   "metadata": {},
   "outputs": [],
   "source": [
    "weights = model.layers[0].get_weights()\n",
    "w = weights[0][0][0]"
   ]
  },
  {
   "cell_type": "code",
   "execution_count": 111,
   "id": "suited-database",
   "metadata": {},
   "outputs": [
    {
     "name": "stdout",
     "output_type": "stream",
     "text": [
      "initial w is : 0.67386377\n"
     ]
    }
   ],
   "source": [
    "print('initial w is : '+str(w))"
   ]
  },
  {
   "cell_type": "code",
   "execution_count": 112,
   "id": "cross-poverty",
   "metadata": {},
   "outputs": [
    {
     "name": "stdout",
     "output_type": "stream",
     "text": [
      "Epoch 1/10\n",
      "1/1 [==============================] - 0s 2ms/step - loss: 6.9728\n",
      "Epoch 2/10\n",
      "1/1 [==============================] - 0s 1ms/step - loss: 1.1225\n",
      "Epoch 3/10\n",
      "1/1 [==============================] - 0s 1ms/step - loss: 0.6089\n",
      "Epoch 4/10\n",
      "1/1 [==============================] - 0s 1ms/step - loss: 0.5638\n",
      "Epoch 5/10\n",
      "1/1 [==============================] - 0s 1ms/step - loss: 0.5598\n",
      "Epoch 6/10\n",
      "1/1 [==============================] - 0s 1ms/step - loss: 0.5595\n",
      "Epoch 7/10\n",
      "1/1 [==============================] - 0s 1ms/step - loss: 0.5594\n",
      "Epoch 8/10\n",
      "1/1 [==============================] - 0s 1ms/step - loss: 0.5594\n",
      "Epoch 9/10\n",
      "1/1 [==============================] - 0s 1ms/step - loss: 0.5594\n",
      "Epoch 10/10\n",
      "1/1 [==============================] - 0s 1ms/step - loss: 0.5594\n"
     ]
    },
    {
     "data": {
      "text/plain": [
       "<tensorflow.python.keras.callbacks.History at 0x7f58407f40f0>"
      ]
     },
     "execution_count": 112,
     "metadata": {},
     "output_type": "execute_result"
    }
   ],
   "source": [
    "model.fit(X,Y,batch_size=10, epochs=10, verbose=1)"
   ]
  },
  {
   "cell_type": "code",
   "execution_count": 113,
   "id": "intellectual-hebrew",
   "metadata": {},
   "outputs": [],
   "source": [
    "# loss 점점 감소, 7번째 학습에서 최소화하는 w 찾음 "
   ]
  },
  {
   "cell_type": "code",
   "execution_count": 114,
   "id": "spatial-testing",
   "metadata": {},
   "outputs": [
    {
     "name": "stdout",
     "output_type": "stream",
     "text": [
      "trainded w is 1.1007996\n"
     ]
    }
   ],
   "source": [
    "weights = model.layers[0].get_weights()\n",
    "w = weights[0][0][0]\n",
    "\n",
    "print('trainded w is ' + str(w))"
   ]
  },
  {
   "cell_type": "code",
   "execution_count": 115,
   "id": "affecting-desperate",
   "metadata": {},
   "outputs": [
    {
     "data": {
      "image/png": "[encoded data removed]",
      "text/plain": [
       "<Figure size 432x288 with 1 Axes>"
      ]
     },
     "metadata": {
      "needs_background": "light"
     },
     "output_type": "display_data"
    }
   ],
   "source": [
    "plt.plot(X,Y,label='data')\n",
    "plt.plot(X,w*X, label='prediction')\n",
    "plt.legend()\n",
    "plt.show()"
   ]
  },
  {
   "cell_type": "code",
   "execution_count": null,
   "id": "excellent-offering",
   "metadata": {},
   "outputs": [],
   "source": []
  },
  {
   "cell_type": "markdown",
   "id": "fallen-strengthening",
   "metadata": {},
   "source": [
    "### Logistic regression with Keras"
   ]
  },
  {
   "cell_type": "code",
   "execution_count": null,
   "id": "retired-mystery",
   "metadata": {},
   "outputs": [],
   "source": []
  },
  {
   "cell_type": "code",
   "execution_count": null,
   "id": "internal-bones",
   "metadata": {},
   "outputs": [],
   "source": []
  },
  {
   "cell_type": "code",
   "execution_count": null,
   "id": "pregnant-wallpaper",
   "metadata": {},
   "outputs": [],
   "source": []
  },
  {
   "cell_type": "code",
   "execution_count": null,
   "id": "theoretical-insurance",
   "metadata": {},
   "outputs": [],
   "source": []
  },
  {
   "cell_type": "code",
   "execution_count": null,
   "id": "signal-borough",
   "metadata": {},
   "outputs": [],
   "source": []
  },
  {
   "cell_type": "code",
   "execution_count": null,
   "id": "frozen-sweden",
   "metadata": {},
   "outputs": [],
   "source": []
  }
 ],
 "metadata": {
  "kernelspec": {
   "display_name": "Python 3",
   "language": "python",
   "name": "python3"
  },
  "language_info": {
   "codemirror_mode": {
    "name": "ipython",
    "version": 3
   },
   "file_extension": ".py",
   "mimetype": "text/x-python",
   "name": "python",
   "nbconvert_exporter": "python",
   "pygments_lexer": "ipython3",
   "version": "3.6.9"
  }
 },
 "nbformat": 4,
 "nbformat_minor": 5
}
