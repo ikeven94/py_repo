{
 "cells": [
  {
   "cell_type": "markdown",
   "metadata": {},
   "source": [
    "#### 작업형 1유형 : 마지막 라인에  \" print(변수명) \"\n",
    "#### 작업형 2유형 : \"수험번호.csv\" 생성코드 실행한 후 제출\n",
    "- 라인별 실행 x / 그래프 기능 x / 단축키 자동완성 x\n",
    "- help함수 가능 help(함수명)\n",
    "    "
   ]
  },
  {
   "cell_type": "code",
   "execution_count": null,
   "metadata": {},
   "outputs": [],
   "source": [
    "# [패키지 리스트]\n",
    "\n",
    "# 0            asn1crypto           0.24.0\n",
    "# 1        beautifulsoup4            4.9.3\n",
    "# 2               certifi        2018.1.18\n",
    "# 3               chardet            3.0.4\n",
    "# 4                 cmake     3.18.4.post1\n",
    "# 5          cryptography            2.1.4\n",
    "# 6                cycler           0.10.0\n",
    "# 7                cython          0.29.23\n",
    "# 8                  idna              2.6\n",
    "# 9                joblib            1.0.1\n",
    "# 10              keyring           10.6.0\n",
    "# 11         keyrings.alt              3.0\n",
    "# 12           kiwisolver            1.3.1\n",
    "# 13           matplotlib            3.3.4\n",
    "# 14                numpy           1.19.5\n",
    "# 15               pandas            1.1.5\n",
    "# 16               pillow            8.2.0\n",
    "# 17                  pip            9.0.1\n",
    "# 18             pycrypto            2.6.1\n",
    "# 19            pygobject           3.26.1\n",
    "# 20            pyparsing            2.4.7\n",
    "# 21           python-apt  1.6.5+ubuntu0.5\n",
    "# 22      python-dateutil            2.8.1\n",
    "# 23                 pytz           2021.1\n",
    "# 24                pyxdg             0.25\n",
    "# 25             requests           2.18.4\n",
    "# 26         scikit-learn           0.24.1\n",
    "# 27                scipy            1.5.4\n",
    "# 28        secretstorage            2.3.1\n",
    "# 29             selenium          3.141.0\n",
    "# 30           setuptools           39.0.1\n",
    "# 31                  six           1.11.0\n",
    "# 32            soupsieve            2.2.1\n",
    "# 33        ssh-import-id              5.7\n",
    "# 34        threadpoolctl            2.1.0\n",
    "# 35  unattended-upgrades              0.1\n",
    "# 36              urllib3             1.22\n",
    "# 37                wheel           0.30.0\n",
    "# 38              xgboost            1.4.1"
   ]
  },
  {
   "cell_type": "code",
   "execution_count": null,
   "metadata": {},
   "outputs": [],
   "source": [
    "### 작업형 1\n",
    "# mtcars 데이터셋의 qsec 컬럼을 최소최대척도(min-max scale)로 변환 후 0.5보다 큰 값을 가지는 레코드 수"
   ]
  },
  {
   "cell_type": "code",
   "execution_count": 4,
   "metadata": {},
   "outputs": [
    {
     "name": "stdout",
     "output_type": "stream",
     "text": [
      "9\n"
     ]
    }
   ],
   "source": [
    "import pandas as pd\n",
    "\n",
    "# mtcar = pd.read_csv(path+'mtcars.csv')\n",
    "mtcar = pd.read_csv(\"data/mtcars.csv\")\n",
    "# print(mtcar['qsec'])\n",
    "mtcar.qsec =  ( mtcar.qsec - min(mtcar.qsec) ) / (max(mtcar.qsec) - min(mtcar.qsec)) \n",
    "# print(mtcar.qsec)\n",
    "record = len(mtcar[mtcar.qsec > 0.5])\n",
    "print(record)"
   ]
  },
  {
   "cell_type": "code",
   "execution_count": null,
   "metadata": {},
   "outputs": [],
   "source": [
    "### 작업형 2"
   ]
  },
  {
   "cell_type": "code",
   "execution_count": null,
   "metadata": {},
   "outputs": [],
   "source": []
  },
  {
   "cell_type": "code",
   "execution_count": null,
   "metadata": {},
   "outputs": [],
   "source": []
  },
  {
   "cell_type": "markdown",
   "metadata": {},
   "source": [
    "- 작업형 2에서 필요할 수 있는 import 목록 "
   ]
  },
  {
   "cell_type": "code",
   "execution_count": 9,
   "metadata": {},
   "outputs": [],
   "source": [
    "import pandas as pd\n",
    "import numpy as np\n",
    "from sklearn.model_selection import train_test_split     # split train/test\n",
    "from sklearn.model_selection import GridSearchCV         # grid search\n",
    "\n",
    "from sklearn.ensemble import RandomForestClassifier    \n",
    "from sklearn.ensemble import RandomForestRegressor\n",
    "\n",
    "from sklearn.ensemble import AdaBoostClassifier\n",
    "from sklearn.ensemble import AdaBoostRegressor\n",
    "\n",
    "from sklearn.ensemble import BaggingClassifier\n",
    "from sklearn.ensemble import BaggingRegressor\n",
    "\n",
    "from sklearn.ensemble import GradientBoostingClassifier\n",
    "from sklearn.ensemble import GradientBoostingRegressor\n",
    "\n",
    "from sklearn.tree import DecisionTreeClassifier\n",
    "from sklearn.tree import DecisionTreeRegressor\n",
    "\n",
    "from sklearn.linear_model import LogisticRegression\n",
    "from sklearn.linear_model import LinearRegression\n",
    "\n",
    "from sklearn.svm import SVC\n",
    "from sklearn.svm import SVR"
   ]
  },
  {
   "cell_type": "code",
   "execution_count": 11,
   "metadata": {},
   "outputs": [],
   "source": [
    "# scoring\n",
    "from sklearn.metrics import f1_score\n",
    "from sklearn.metrics import precision_recall_curve\n",
    "from sklearn.metrics import roc_curve\n",
    "from sklearn.metrics import roc_auc_score\n",
    "\n",
    "from sklearn.metrics import log_loss\n",
    "from sklearn.metrics import mean_squared_error\n",
    "from sklearn.metrics import mean_absolute_error\n",
    "from sklearn.metrics import r2_score"
   ]
  },
  {
   "cell_type": "code",
   "execution_count": 14,
   "metadata": {},
   "outputs": [
    {
     "name": "stdout",
     "output_type": "stream",
     "text": [
      "['base.py', 'calibration.py', 'cluster', 'compose', 'conftest.py', 'covariance', 'cross_decomposition', 'datasets', 'decomposition', 'discriminant_analysis.py', 'dummy.py', 'ensemble', 'exceptions.py', 'experimental', 'externals', 'feature_extraction', 'feature_selection', 'gaussian_process', 'impute', 'inspection', 'isotonic.py', 'kernel_approximation.py', 'kernel_ridge.py', 'linear_model', 'manifold', 'metrics', 'mixture', 'model_selection', 'multiclass.py', 'multioutput.py', 'naive_bayes.py', 'neighbors', 'neural_network', 'pipeline.py', 'preprocessing', 'random_projection.py', 'semi_supervised', 'setup.py', 'svm', 'tests', 'tree', 'utils', '_build_utils', '_config.py', '_distributor_init.py', '_isotonic.cp38-win_amd64.pyd', '_loss', '__check_build', '__init__.py', '__pycache__']\n"
     ]
    }
   ],
   "source": [
    "import os\n",
    "import sklearn\n",
    "print(os.listdir(sklearn.__path__[0]))"
   ]
  },
  {
   "cell_type": "code",
   "execution_count": null,
   "metadata": {},
   "outputs": [],
   "source": []
  }
 ],
 "metadata": {
  "kernelspec": {
   "display_name": "Python 3",
   "language": "python",
   "name": "python3"
  },
  "language_info": {
   "codemirror_mode": {
    "name": "ipython",
    "version": 3
   },
   "file_extension": ".py",
   "mimetype": "text/x-python",
   "name": "python",
   "nbconvert_exporter": "python",
   "pygments_lexer": "ipython3",
   "version": "3.8.3"
  }
 },
 "nbformat": 4,
 "nbformat_minor": 4
}
